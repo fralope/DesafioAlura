{
  "nbformat": 4,
  "nbformat_minor": 0,
  "metadata": {
    "colab": {
      "provenance": [],
      "collapsed_sections": [
        "Rq6tU_xSY3jk",
        "DmNp1KPBZCm-"
      ]
    },
    "kernelspec": {
      "name": "python3",
      "display_name": "Python 3"
    },
    "language_info": {
      "name": "python"
    }
  },
  "cells": [
    {
      "cell_type": "markdown",
      "source": [
        "### Importación de datos\n",
        "\n"
      ],
      "metadata": {
        "id": "RhEdWd9YUR6H"
      }
    },
    {
      "cell_type": "code",
      "execution_count": 41,
      "metadata": {
        "colab": {
          "base_uri": "https://localhost:8080/",
          "height": 206
        },
        "id": "T3EvaeQ_INIL",
        "outputId": "a7fe5a37-873a-482e-eead-b05d3ed9d7af"
      },
      "outputs": [
        {
          "output_type": "execute_result",
          "data": {
            "text/plain": [
              "           Producto  Categoría del Producto    Precio  Costo de envío  \\\n",
              "0  Silla de oficina                 Muebles  283600.0         15300.0   \n",
              "1         Pandereta  Instrumentos musicales   76800.0          2300.0   \n",
              "2         Cama king                 Muebles  443300.0         23800.0   \n",
              "3         Cama king                 Muebles  906200.0         46400.0   \n",
              "4  Silla de oficina                 Muebles  397800.0         19400.0   \n",
              "\n",
              "  Fecha de Compra         Vendedor Lugar de Compra  Calificación  \\\n",
              "0      04/08/2021  Izabela de León        Medellín             1   \n",
              "1      26/11/2020   Blanca Ramirez        Medellín             3   \n",
              "2      22/10/2021  Izabela de León         Pereira             5   \n",
              "3      04/05/2022    Maria Alfonso            Cali             5   \n",
              "4      26/02/2022    Lucas Olivera          Bogotá             4   \n",
              "\n",
              "       Método de pago  Cantidad de cuotas      lat       lon  \n",
              "0               Nequi                   1  6.25184 -75.56359  \n",
              "1  Tarjeta de crédito                   4  6.25184 -75.56359  \n",
              "2  Tarjeta de crédito                  10  4.81333 -75.69611  \n",
              "3  Tarjeta de crédito                  10  3.43722 -76.52250  \n",
              "4  Tarjeta de crédito                   3  4.60971 -74.08175  "
            ],
            "text/html": [
              "\n",
              "  <div id=\"df-9b61e6ac-e8b5-4380-84fd-b62434c2b0d1\" class=\"colab-df-container\">\n",
              "    <div>\n",
              "<style scoped>\n",
              "    .dataframe tbody tr th:only-of-type {\n",
              "        vertical-align: middle;\n",
              "    }\n",
              "\n",
              "    .dataframe tbody tr th {\n",
              "        vertical-align: top;\n",
              "    }\n",
              "\n",
              "    .dataframe thead th {\n",
              "        text-align: right;\n",
              "    }\n",
              "</style>\n",
              "<table border=\"1\" class=\"dataframe\">\n",
              "  <thead>\n",
              "    <tr style=\"text-align: right;\">\n",
              "      <th></th>\n",
              "      <th>Producto</th>\n",
              "      <th>Categoría del Producto</th>\n",
              "      <th>Precio</th>\n",
              "      <th>Costo de envío</th>\n",
              "      <th>Fecha de Compra</th>\n",
              "      <th>Vendedor</th>\n",
              "      <th>Lugar de Compra</th>\n",
              "      <th>Calificación</th>\n",
              "      <th>Método de pago</th>\n",
              "      <th>Cantidad de cuotas</th>\n",
              "      <th>lat</th>\n",
              "      <th>lon</th>\n",
              "    </tr>\n",
              "  </thead>\n",
              "  <tbody>\n",
              "    <tr>\n",
              "      <th>0</th>\n",
              "      <td>Silla de oficina</td>\n",
              "      <td>Muebles</td>\n",
              "      <td>283600.0</td>\n",
              "      <td>15300.0</td>\n",
              "      <td>04/08/2021</td>\n",
              "      <td>Izabela de León</td>\n",
              "      <td>Medellín</td>\n",
              "      <td>1</td>\n",
              "      <td>Nequi</td>\n",
              "      <td>1</td>\n",
              "      <td>6.25184</td>\n",
              "      <td>-75.56359</td>\n",
              "    </tr>\n",
              "    <tr>\n",
              "      <th>1</th>\n",
              "      <td>Pandereta</td>\n",
              "      <td>Instrumentos musicales</td>\n",
              "      <td>76800.0</td>\n",
              "      <td>2300.0</td>\n",
              "      <td>26/11/2020</td>\n",
              "      <td>Blanca Ramirez</td>\n",
              "      <td>Medellín</td>\n",
              "      <td>3</td>\n",
              "      <td>Tarjeta de crédito</td>\n",
              "      <td>4</td>\n",
              "      <td>6.25184</td>\n",
              "      <td>-75.56359</td>\n",
              "    </tr>\n",
              "    <tr>\n",
              "      <th>2</th>\n",
              "      <td>Cama king</td>\n",
              "      <td>Muebles</td>\n",
              "      <td>443300.0</td>\n",
              "      <td>23800.0</td>\n",
              "      <td>22/10/2021</td>\n",
              "      <td>Izabela de León</td>\n",
              "      <td>Pereira</td>\n",
              "      <td>5</td>\n",
              "      <td>Tarjeta de crédito</td>\n",
              "      <td>10</td>\n",
              "      <td>4.81333</td>\n",
              "      <td>-75.69611</td>\n",
              "    </tr>\n",
              "    <tr>\n",
              "      <th>3</th>\n",
              "      <td>Cama king</td>\n",
              "      <td>Muebles</td>\n",
              "      <td>906200.0</td>\n",
              "      <td>46400.0</td>\n",
              "      <td>04/05/2022</td>\n",
              "      <td>Maria Alfonso</td>\n",
              "      <td>Cali</td>\n",
              "      <td>5</td>\n",
              "      <td>Tarjeta de crédito</td>\n",
              "      <td>10</td>\n",
              "      <td>3.43722</td>\n",
              "      <td>-76.52250</td>\n",
              "    </tr>\n",
              "    <tr>\n",
              "      <th>4</th>\n",
              "      <td>Silla de oficina</td>\n",
              "      <td>Muebles</td>\n",
              "      <td>397800.0</td>\n",
              "      <td>19400.0</td>\n",
              "      <td>26/02/2022</td>\n",
              "      <td>Lucas Olivera</td>\n",
              "      <td>Bogotá</td>\n",
              "      <td>4</td>\n",
              "      <td>Tarjeta de crédito</td>\n",
              "      <td>3</td>\n",
              "      <td>4.60971</td>\n",
              "      <td>-74.08175</td>\n",
              "    </tr>\n",
              "  </tbody>\n",
              "</table>\n",
              "</div>\n",
              "    <div class=\"colab-df-buttons\">\n",
              "\n",
              "  <div class=\"colab-df-container\">\n",
              "    <button class=\"colab-df-convert\" onclick=\"convertToInteractive('df-9b61e6ac-e8b5-4380-84fd-b62434c2b0d1')\"\n",
              "            title=\"Convert this dataframe to an interactive table.\"\n",
              "            style=\"display:none;\">\n",
              "\n",
              "  <svg xmlns=\"http://www.w3.org/2000/svg\" height=\"24px\" viewBox=\"0 -960 960 960\">\n",
              "    <path d=\"M120-120v-720h720v720H120Zm60-500h600v-160H180v160Zm220 220h160v-160H400v160Zm0 220h160v-160H400v160ZM180-400h160v-160H180v160Zm440 0h160v-160H620v160ZM180-180h160v-160H180v160Zm440 0h160v-160H620v160Z\"/>\n",
              "  </svg>\n",
              "    </button>\n",
              "\n",
              "  <style>\n",
              "    .colab-df-container {\n",
              "      display:flex;\n",
              "      gap: 12px;\n",
              "    }\n",
              "\n",
              "    .colab-df-convert {\n",
              "      background-color: #E8F0FE;\n",
              "      border: none;\n",
              "      border-radius: 50%;\n",
              "      cursor: pointer;\n",
              "      display: none;\n",
              "      fill: #1967D2;\n",
              "      height: 32px;\n",
              "      padding: 0 0 0 0;\n",
              "      width: 32px;\n",
              "    }\n",
              "\n",
              "    .colab-df-convert:hover {\n",
              "      background-color: #E2EBFA;\n",
              "      box-shadow: 0px 1px 2px rgba(60, 64, 67, 0.3), 0px 1px 3px 1px rgba(60, 64, 67, 0.15);\n",
              "      fill: #174EA6;\n",
              "    }\n",
              "\n",
              "    .colab-df-buttons div {\n",
              "      margin-bottom: 4px;\n",
              "    }\n",
              "\n",
              "    [theme=dark] .colab-df-convert {\n",
              "      background-color: #3B4455;\n",
              "      fill: #D2E3FC;\n",
              "    }\n",
              "\n",
              "    [theme=dark] .colab-df-convert:hover {\n",
              "      background-color: #434B5C;\n",
              "      box-shadow: 0px 1px 3px 1px rgba(0, 0, 0, 0.15);\n",
              "      filter: drop-shadow(0px 1px 2px rgba(0, 0, 0, 0.3));\n",
              "      fill: #FFFFFF;\n",
              "    }\n",
              "  </style>\n",
              "\n",
              "    <script>\n",
              "      const buttonEl =\n",
              "        document.querySelector('#df-9b61e6ac-e8b5-4380-84fd-b62434c2b0d1 button.colab-df-convert');\n",
              "      buttonEl.style.display =\n",
              "        google.colab.kernel.accessAllowed ? 'block' : 'none';\n",
              "\n",
              "      async function convertToInteractive(key) {\n",
              "        const element = document.querySelector('#df-9b61e6ac-e8b5-4380-84fd-b62434c2b0d1');\n",
              "        const dataTable =\n",
              "          await google.colab.kernel.invokeFunction('convertToInteractive',\n",
              "                                                    [key], {});\n",
              "        if (!dataTable) return;\n",
              "\n",
              "        const docLinkHtml = 'Like what you see? Visit the ' +\n",
              "          '<a target=\"_blank\" href=https://colab.research.google.com/notebooks/data_table.ipynb>data table notebook</a>'\n",
              "          + ' to learn more about interactive tables.';\n",
              "        element.innerHTML = '';\n",
              "        dataTable['output_type'] = 'display_data';\n",
              "        await google.colab.output.renderOutput(dataTable, element);\n",
              "        const docLink = document.createElement('div');\n",
              "        docLink.innerHTML = docLinkHtml;\n",
              "        element.appendChild(docLink);\n",
              "      }\n",
              "    </script>\n",
              "  </div>\n",
              "\n",
              "\n",
              "    <div id=\"df-86c91dbd-eefb-4e6e-b5e7-d08c6a0aca03\">\n",
              "      <button class=\"colab-df-quickchart\" onclick=\"quickchart('df-86c91dbd-eefb-4e6e-b5e7-d08c6a0aca03')\"\n",
              "                title=\"Suggest charts\"\n",
              "                style=\"display:none;\">\n",
              "\n",
              "<svg xmlns=\"http://www.w3.org/2000/svg\" height=\"24px\"viewBox=\"0 0 24 24\"\n",
              "     width=\"24px\">\n",
              "    <g>\n",
              "        <path d=\"M19 3H5c-1.1 0-2 .9-2 2v14c0 1.1.9 2 2 2h14c1.1 0 2-.9 2-2V5c0-1.1-.9-2-2-2zM9 17H7v-7h2v7zm4 0h-2V7h2v10zm4 0h-2v-4h2v4z\"/>\n",
              "    </g>\n",
              "</svg>\n",
              "      </button>\n",
              "\n",
              "<style>\n",
              "  .colab-df-quickchart {\n",
              "      --bg-color: #E8F0FE;\n",
              "      --fill-color: #1967D2;\n",
              "      --hover-bg-color: #E2EBFA;\n",
              "      --hover-fill-color: #174EA6;\n",
              "      --disabled-fill-color: #AAA;\n",
              "      --disabled-bg-color: #DDD;\n",
              "  }\n",
              "\n",
              "  [theme=dark] .colab-df-quickchart {\n",
              "      --bg-color: #3B4455;\n",
              "      --fill-color: #D2E3FC;\n",
              "      --hover-bg-color: #434B5C;\n",
              "      --hover-fill-color: #FFFFFF;\n",
              "      --disabled-bg-color: #3B4455;\n",
              "      --disabled-fill-color: #666;\n",
              "  }\n",
              "\n",
              "  .colab-df-quickchart {\n",
              "    background-color: var(--bg-color);\n",
              "    border: none;\n",
              "    border-radius: 50%;\n",
              "    cursor: pointer;\n",
              "    display: none;\n",
              "    fill: var(--fill-color);\n",
              "    height: 32px;\n",
              "    padding: 0;\n",
              "    width: 32px;\n",
              "  }\n",
              "\n",
              "  .colab-df-quickchart:hover {\n",
              "    background-color: var(--hover-bg-color);\n",
              "    box-shadow: 0 1px 2px rgba(60, 64, 67, 0.3), 0 1px 3px 1px rgba(60, 64, 67, 0.15);\n",
              "    fill: var(--button-hover-fill-color);\n",
              "  }\n",
              "\n",
              "  .colab-df-quickchart-complete:disabled,\n",
              "  .colab-df-quickchart-complete:disabled:hover {\n",
              "    background-color: var(--disabled-bg-color);\n",
              "    fill: var(--disabled-fill-color);\n",
              "    box-shadow: none;\n",
              "  }\n",
              "\n",
              "  .colab-df-spinner {\n",
              "    border: 2px solid var(--fill-color);\n",
              "    border-color: transparent;\n",
              "    border-bottom-color: var(--fill-color);\n",
              "    animation:\n",
              "      spin 1s steps(1) infinite;\n",
              "  }\n",
              "\n",
              "  @keyframes spin {\n",
              "    0% {\n",
              "      border-color: transparent;\n",
              "      border-bottom-color: var(--fill-color);\n",
              "      border-left-color: var(--fill-color);\n",
              "    }\n",
              "    20% {\n",
              "      border-color: transparent;\n",
              "      border-left-color: var(--fill-color);\n",
              "      border-top-color: var(--fill-color);\n",
              "    }\n",
              "    30% {\n",
              "      border-color: transparent;\n",
              "      border-left-color: var(--fill-color);\n",
              "      border-top-color: var(--fill-color);\n",
              "      border-right-color: var(--fill-color);\n",
              "    }\n",
              "    40% {\n",
              "      border-color: transparent;\n",
              "      border-right-color: var(--fill-color);\n",
              "      border-top-color: var(--fill-color);\n",
              "    }\n",
              "    60% {\n",
              "      border-color: transparent;\n",
              "      border-right-color: var(--fill-color);\n",
              "    }\n",
              "    80% {\n",
              "      border-color: transparent;\n",
              "      border-right-color: var(--fill-color);\n",
              "      border-bottom-color: var(--fill-color);\n",
              "    }\n",
              "    90% {\n",
              "      border-color: transparent;\n",
              "      border-bottom-color: var(--fill-color);\n",
              "    }\n",
              "  }\n",
              "</style>\n",
              "\n",
              "      <script>\n",
              "        async function quickchart(key) {\n",
              "          const quickchartButtonEl =\n",
              "            document.querySelector('#' + key + ' button');\n",
              "          quickchartButtonEl.disabled = true;  // To prevent multiple clicks.\n",
              "          quickchartButtonEl.classList.add('colab-df-spinner');\n",
              "          try {\n",
              "            const charts = await google.colab.kernel.invokeFunction(\n",
              "                'suggestCharts', [key], {});\n",
              "          } catch (error) {\n",
              "            console.error('Error during call to suggestCharts:', error);\n",
              "          }\n",
              "          quickchartButtonEl.classList.remove('colab-df-spinner');\n",
              "          quickchartButtonEl.classList.add('colab-df-quickchart-complete');\n",
              "        }\n",
              "        (() => {\n",
              "          let quickchartButtonEl =\n",
              "            document.querySelector('#df-86c91dbd-eefb-4e6e-b5e7-d08c6a0aca03 button');\n",
              "          quickchartButtonEl.style.display =\n",
              "            google.colab.kernel.accessAllowed ? 'block' : 'none';\n",
              "        })();\n",
              "      </script>\n",
              "    </div>\n",
              "\n",
              "    </div>\n",
              "  </div>\n"
            ],
            "application/vnd.google.colaboratory.intrinsic+json": {
              "type": "dataframe",
              "variable_name": "tienda2",
              "summary": "{\n  \"name\": \"tienda2\",\n  \"rows\": 2359,\n  \"fields\": [\n    {\n      \"column\": \"Producto\",\n      \"properties\": {\n        \"dtype\": \"category\",\n        \"num_unique_values\": 51,\n        \"samples\": [\n          \"Carrito de control remoto\",\n          \"Bal\\u00f3n de voleibol\",\n          \"Smartwatch\"\n        ],\n        \"semantic_type\": \"\",\n        \"description\": \"\"\n      }\n    },\n    {\n      \"column\": \"Categor\\u00eda del Producto\",\n      \"properties\": {\n        \"dtype\": \"category\",\n        \"num_unique_values\": 8,\n        \"samples\": [\n          \"Instrumentos musicales\",\n          \"Juguetes\",\n          \"Muebles\"\n        ],\n        \"semantic_type\": \"\",\n        \"description\": \"\"\n      }\n    },\n    {\n      \"column\": \"Precio\",\n      \"properties\": {\n        \"dtype\": \"number\",\n        \"std\": 595559.5496238894,\n        \"min\": 7600.0,\n        \"max\": 2953400.0,\n        \"num_unique_values\": 1908,\n        \"samples\": [\n          58500.0,\n          39100.0,\n          2005300.0\n        ],\n        \"semantic_type\": \"\",\n        \"description\": \"\"\n      }\n    },\n    {\n      \"column\": \"Costo de env\\u00edo\",\n      \"properties\": {\n        \"dtype\": \"number\",\n        \"std\": 31741.37516624008,\n        \"min\": 0.0,\n        \"max\": 162500.0,\n        \"num_unique_values\": 736,\n        \"samples\": [\n          79700.0,\n          32300.0,\n          12600.0\n        ],\n        \"semantic_type\": \"\",\n        \"description\": \"\"\n      }\n    },\n    {\n      \"column\": \"Fecha de Compra\",\n      \"properties\": {\n        \"dtype\": \"category\",\n        \"num_unique_values\": 1025,\n        \"samples\": [\n          \"17/02/2021\",\n          \"16/03/2023\",\n          \"30/07/2020\"\n        ],\n        \"semantic_type\": \"\",\n        \"description\": \"\"\n      }\n    },\n    {\n      \"column\": \"Vendedor\",\n      \"properties\": {\n        \"dtype\": \"category\",\n        \"num_unique_values\": 14,\n        \"samples\": [\n          \"Felipe Santos\",\n          \"\\u00c1ngel Rodriguez\",\n          \"Izabela de Le\\u00f3n\"\n        ],\n        \"semantic_type\": \"\",\n        \"description\": \"\"\n      }\n    },\n    {\n      \"column\": \"Lugar de Compra\",\n      \"properties\": {\n        \"dtype\": \"category\",\n        \"num_unique_values\": 19,\n        \"samples\": [\n          \"Medell\\u00edn\",\n          \"Barranquilla\",\n          \"Manizales\"\n        ],\n        \"semantic_type\": \"\",\n        \"description\": \"\"\n      }\n    },\n    {\n      \"column\": \"Calificaci\\u00f3n\",\n      \"properties\": {\n        \"dtype\": \"number\",\n        \"std\": 1,\n        \"min\": 1,\n        \"max\": 5,\n        \"num_unique_values\": 5,\n        \"samples\": [\n          3,\n          2,\n          5\n        ],\n        \"semantic_type\": \"\",\n        \"description\": \"\"\n      }\n    },\n    {\n      \"column\": \"M\\u00e9todo de pago\",\n      \"properties\": {\n        \"dtype\": \"category\",\n        \"num_unique_values\": 4,\n        \"samples\": [\n          \"Tarjeta de cr\\u00e9dito\",\n          \"Tarjeta de d\\u00e9bito\",\n          \"Nequi\"\n        ],\n        \"semantic_type\": \"\",\n        \"description\": \"\"\n      }\n    },\n    {\n      \"column\": \"Cantidad de cuotas\",\n      \"properties\": {\n        \"dtype\": \"number\",\n        \"std\": 2,\n        \"min\": 1,\n        \"max\": 24,\n        \"num_unique_values\": 17,\n        \"samples\": [\n          1,\n          4,\n          2\n        ],\n        \"semantic_type\": \"\",\n        \"description\": \"\"\n      }\n    },\n    {\n      \"column\": \"lat\",\n      \"properties\": {\n        \"dtype\": \"number\",\n        \"std\": 2.3511176512146568,\n        \"min\": -4.21528,\n        \"max\": 11.54444,\n        \"num_unique_values\": 19,\n        \"samples\": [\n          6.25184,\n          10.96854,\n          5.06889\n        ],\n        \"semantic_type\": \"\",\n        \"description\": \"\"\n      }\n    },\n    {\n      \"column\": \"lon\",\n      \"properties\": {\n        \"dtype\": \"number\",\n        \"std\": 1.185996710833015,\n        \"min\": -77.28111,\n        \"max\": -67.9239,\n        \"num_unique_values\": 19,\n        \"samples\": [\n          -75.56359,\n          -74.78132,\n          -75.51738\n        ],\n        \"semantic_type\": \"\",\n        \"description\": \"\"\n      }\n    }\n  ]\n}"
            }
          },
          "metadata": {},
          "execution_count": 41
        }
      ],
      "source": [
        "import pandas as pd\n",
        "\n",
        "url = \"https://raw.githubusercontent.com/alura-es-cursos/challenge1-data-science-latam/refs/heads/main/base-de-datos-challenge1-latam/tienda_1%20.csv\"\n",
        "url2 = \"https://raw.githubusercontent.com/alura-es-cursos/challenge1-data-science-latam/refs/heads/main/base-de-datos-challenge1-latam/tienda_2.csv\"\n",
        "url3 = \"https://raw.githubusercontent.com/alura-es-cursos/challenge1-data-science-latam/refs/heads/main/base-de-datos-challenge1-latam/tienda_3.csv\"\n",
        "url4 = \"https://raw.githubusercontent.com/alura-es-cursos/challenge1-data-science-latam/refs/heads/main/base-de-datos-challenge1-latam/tienda_4.csv\"\n",
        "\n",
        "tienda = pd.read_csv(url)\n",
        "tienda2 = pd.read_csv(url2)\n",
        "tienda3 = pd.read_csv(url3)\n",
        "tienda4 = pd.read_csv(url4)\n",
        "\n",
        "tienda2.head()"
      ]
    },
    {
      "cell_type": "markdown",
      "source": [
        "#1. Análisis de facturación\n",
        "\n"
      ],
      "metadata": {
        "id": "X62IW3KFUIYm"
      }
    },
    {
      "cell_type": "markdown",
      "source": [
        "Tienda 1\n"
      ],
      "metadata": {
        "id": "OFSe_RXQupt7"
      }
    },
    {
      "cell_type": "code",
      "source": [
        "tienda[\"Total\"]= tienda[\"Precio\"] + tienda[\"Costo de envío\"]\n",
        "facturacion_total = tienda[\"Total\"].sum()\n",
        "print(f\"Las ventas totales fueron de: ${facturacion_total}\")"
      ],
      "metadata": {
        "id": "xykobSftV64I",
        "colab": {
          "base_uri": "https://localhost:8080/"
        },
        "outputId": "31fff2e1-647e-422c-be94-369bd6f737e1"
      },
      "execution_count": 3,
      "outputs": [
        {
          "output_type": "stream",
          "name": "stdout",
          "text": [
            "Las ventas totales fueron de: $1212258300.0\n"
          ]
        }
      ]
    },
    {
      "cell_type": "markdown",
      "source": [
        "Tienda 2\n"
      ],
      "metadata": {
        "id": "ytM6ahy7uvla"
      }
    },
    {
      "cell_type": "code",
      "source": [
        "tienda2[\"Total\"]= tienda2[\"Precio\"] + tienda2[\"Costo de envío\"]\n",
        "facturacion_total = tienda2[\"Total\"].sum()\n",
        "print(f\"Las ventas totales fueron de: ${facturacion_total}\")"
      ],
      "metadata": {
        "id": "KDyr8E71V3m-",
        "colab": {
          "base_uri": "https://localhost:8080/"
        },
        "outputId": "39d4fb69-209e-4393-c9e6-89ee4e2bbf96"
      },
      "execution_count": 4,
      "outputs": [
        {
          "output_type": "stream",
          "name": "stdout",
          "text": [
            "Las ventas totales fueron de: $1175828600.0\n"
          ]
        }
      ]
    },
    {
      "cell_type": "markdown",
      "source": [
        "Tienda 3"
      ],
      "metadata": {
        "id": "elyRedB3uygU"
      }
    },
    {
      "cell_type": "code",
      "source": [
        "tienda3[\"Total\"]= tienda3[\"Precio\"] + tienda3[\"Costo de envío\"]\n",
        "facturacion_total = tienda3[\"Total\"].sum()\n",
        "print(f\"Las ventas totales fueron de: ${facturacion_total}\")"
      ],
      "metadata": {
        "id": "bKMCJ2houl50",
        "colab": {
          "base_uri": "https://localhost:8080/"
        },
        "outputId": "4e5b80aa-f87a-4f91-a773-23f1e63a368e"
      },
      "execution_count": 5,
      "outputs": [
        {
          "output_type": "stream",
          "name": "stdout",
          "text": [
            "Las ventas totales fueron de: $1156536200.0\n"
          ]
        }
      ]
    },
    {
      "cell_type": "markdown",
      "source": [
        "Tienda 4\n"
      ],
      "metadata": {
        "id": "XPLCduRYu2mB"
      }
    },
    {
      "cell_type": "code",
      "source": [
        "tienda4[\"Total\"]= tienda[\"Precio\"] + tienda4[\"Costo de envío\"]\n",
        "facturacion_total = tienda4[\"Total\"].sum()\n",
        "print(f\"Las ventas totales fueron de: ${facturacion_total}\")"
      ],
      "metadata": {
        "id": "YLCnjOXSulth",
        "colab": {
          "base_uri": "https://localhost:8080/"
        },
        "outputId": "47024f76-b7eb-4ac8-c6cd-3cd43d37e7e4"
      },
      "execution_count": 6,
      "outputs": [
        {
          "output_type": "stream",
          "name": "stdout",
          "text": [
            "Las ventas totales fueron de: $1206002800.0\n"
          ]
        }
      ]
    },
    {
      "cell_type": "markdown",
      "source": [
        "# 2. Ventas por categoría"
      ],
      "metadata": {
        "id": "2V_vcAPzWZmR"
      }
    },
    {
      "cell_type": "markdown",
      "source": [
        "Tienda 1"
      ],
      "metadata": {
        "id": "_zjSwvT77_eu"
      }
    },
    {
      "cell_type": "code",
      "source": [
        "# Asegúrate de tener la columna Total (Precio + Costo de envío)\n",
        "tienda[\"Total\"] = tienda[\"Precio\"] + tienda[\"Costo de envío\"]\n",
        "\n",
        "# Agrupar por categoría y sumar las ventas\n",
        "ventas_por_categoria = tienda.groupby(\"Categoría del Producto\")[\"Total\"].sum()\n",
        "\n",
        "print(ventas_por_categoria)\n"
      ],
      "metadata": {
        "id": "A34YupIuYhfF",
        "colab": {
          "base_uri": "https://localhost:8080/"
        },
        "outputId": "cb3251e3-cc84-44b9-9110-ab1d0b0f266c"
      },
      "execution_count": 7,
      "outputs": [
        {
          "output_type": "stream",
          "name": "stdout",
          "text": [
            "Categoría del Producto\n",
            "Artículos para el hogar     13342200.0\n",
            "Deportes y diversión        41411100.0\n",
            "Electrodomésticos          383009200.0\n",
            "Electrónicos               452457200.0\n",
            "Instrumentos musicales      96182900.0\n",
            "Juguetes                    18975200.0\n",
            "Libros                       9251900.0\n",
            "Muebles                    197628600.0\n",
            "Name: Total, dtype: float64\n"
          ]
        }
      ]
    },
    {
      "cell_type": "markdown",
      "source": [
        "Tienda 2"
      ],
      "metadata": {
        "id": "emDpn-VC8BfQ"
      }
    },
    {
      "cell_type": "code",
      "source": [
        "# Asegúrate de tener la columna Total (Precio + Costo de envío)\n",
        "tienda2[\"Total\"] = tienda2[\"Precio\"] + tienda2[\"Costo de envío\"]\n",
        "\n",
        "# Agrupar por categoría y sumar las ventas\n",
        "ventas_por_categoria = tienda2.groupby(\"Categoría del Producto\")[\"Total\"].sum()\n",
        "\n",
        "print(ventas_por_categoria)\n"
      ],
      "metadata": {
        "colab": {
          "base_uri": "https://localhost:8080/"
        },
        "id": "uXZQ5M-Q7sQx",
        "outputId": "be6fb11f-6ea9-41a4-e969-9093bde4d218"
      },
      "execution_count": 8,
      "outputs": [
        {
          "output_type": "stream",
          "name": "stdout",
          "text": [
            "Categoría del Producto\n",
            "Artículos para el hogar     15547700.0\n",
            "Deportes y diversión        36621800.0\n",
            "Electrodomésticos          367123400.0\n",
            "Electrónicos               432645300.0\n",
            "Instrumentos musicales     110548000.0\n",
            "Juguetes                    16833000.0\n",
            "Libros                      10647000.0\n",
            "Muebles                    185862400.0\n",
            "Name: Total, dtype: float64\n"
          ]
        }
      ]
    },
    {
      "cell_type": "markdown",
      "source": [
        "Tienda 3"
      ],
      "metadata": {
        "id": "hY_N8-VJ8C_s"
      }
    },
    {
      "cell_type": "code",
      "source": [
        "# Asegúrate de tener la columna Total (Precio + Costo de envío)\n",
        "tienda3[\"Total\"] = tienda3[\"Precio\"] + tienda3[\"Costo de envío\"]\n",
        "\n",
        "# Agrupar por categoría y sumar las ventas\n",
        "ventas_por_categoria = tienda3.groupby(\"Categoría del Producto\")[\"Total\"].sum()\n",
        "\n",
        "print(ventas_por_categoria)\n"
      ],
      "metadata": {
        "id": "Nl6kWeHL7saM"
      },
      "execution_count": null,
      "outputs": []
    },
    {
      "cell_type": "markdown",
      "source": [
        "Tienda 4"
      ],
      "metadata": {
        "id": "_JPAfRtn8EPS"
      }
    },
    {
      "cell_type": "code",
      "source": [
        "# Asegúrate de tener la columna Total (Precio + Costo de envío)\n",
        "tienda4[\"Total\"] = tienda4[\"Precio\"] + tienda4[\"Costo de envío\"]\n",
        "\n",
        "# Agrupar por categoría y sumar las ventas\n",
        "ventas_por_categoria = tienda4.groupby(\"Categoría del Producto\")[\"Total\"].sum()\n",
        "\n",
        "print(ventas_por_categoria)\n"
      ],
      "metadata": {
        "id": "yZR6cOjXYSk1"
      },
      "execution_count": null,
      "outputs": []
    },
    {
      "cell_type": "markdown",
      "source": [
        "# 3. Calificación promedio de la tienda\n"
      ],
      "metadata": {
        "id": "Rq6tU_xSY3jk"
      }
    },
    {
      "cell_type": "code",
      "source": [
        "calificacion_promedio = tienda[\"Calificación\"].mean()\n",
        "print(f\"La calificación promedio general de la tienda 1 es: {calificacion_promedio:.2f}\")\n"
      ],
      "metadata": {
        "id": "bh3jjjJwY5MU",
        "colab": {
          "base_uri": "https://localhost:8080/"
        },
        "outputId": "9096b99f-8ee1-41f1-acd6-83d2b9883607"
      },
      "execution_count": 10,
      "outputs": [
        {
          "output_type": "stream",
          "name": "stdout",
          "text": [
            "La calificación promedio general de la tienda 1 es: 3.98\n"
          ]
        }
      ]
    },
    {
      "cell_type": "code",
      "source": [
        "calificacion_promedio = tienda2[\"Calificación\"].mean()\n",
        "print(f\"La calificación promedio general de la tienda 2 es: {calificacion_promedio:.2f}\")\n"
      ],
      "metadata": {
        "colab": {
          "base_uri": "https://localhost:8080/"
        },
        "id": "fNvYQpp18Vh7",
        "outputId": "537cd979-f342-431b-aa9a-c4e87497a602"
      },
      "execution_count": 11,
      "outputs": [
        {
          "output_type": "stream",
          "name": "stdout",
          "text": [
            "La calificación promedio general de la tienda 2 es: 4.04\n"
          ]
        }
      ]
    },
    {
      "cell_type": "code",
      "source": [
        "calificacion_promedio = tienda3[\"Calificación\"].mean()\n",
        "print(f\"La calificación promedio general de la tienda 3 es: {calificacion_promedio:.2f}\")\n"
      ],
      "metadata": {
        "colab": {
          "base_uri": "https://localhost:8080/"
        },
        "id": "RGbE3JFk8Vsq",
        "outputId": "7abe7bbc-2fce-4e77-e9b6-b368e70e5651"
      },
      "execution_count": 12,
      "outputs": [
        {
          "output_type": "stream",
          "name": "stdout",
          "text": [
            "La calificación promedio general de la tienda 3 es: 4.05\n"
          ]
        }
      ]
    },
    {
      "cell_type": "code",
      "source": [
        "calificacion_promedio = tienda4[\"Calificación\"].mean()\n",
        "print(f\"La calificación promedio general de la tienda 4 es: {calificacion_promedio:.2f}\")\n"
      ],
      "metadata": {
        "id": "I0KkjPoTY88F",
        "colab": {
          "base_uri": "https://localhost:8080/"
        },
        "outputId": "10cbc165-6f2f-4fc9-e96f-ec22cbf3bfce"
      },
      "execution_count": 13,
      "outputs": [
        {
          "output_type": "stream",
          "name": "stdout",
          "text": [
            "La calificación promedio general de la tienda 4 es: 4.00\n"
          ]
        }
      ]
    },
    {
      "cell_type": "markdown",
      "source": [
        "# 4. Productos más y menos vendidos"
      ],
      "metadata": {
        "id": "DmNp1KPBZCm-"
      }
    },
    {
      "cell_type": "code",
      "source": [
        "ventas_por_producto = tienda[\"Producto\"].value_counts()\n",
        "producto_mas_vendido = ventas_por_producto.idxmax()\n",
        "cantidad_mas_vendido = ventas_por_producto.max()\n",
        "producto_menos_vendido = ventas_por_producto.idxmin()\n",
        "cantidad_menos_vendido = ventas_por_producto.min()\n",
        "\n",
        "print(f\"Producto más vendido de la tienda 1 fue : {producto_mas_vendido} ({cantidad_mas_vendido} ventas) y el menos vendido de la tienda 1 fue: {producto_menos_vendido} ({cantidad_menos_vendido} ventas)\")\n"
      ],
      "metadata": {
        "id": "qoyjqijQZHfF",
        "colab": {
          "base_uri": "https://localhost:8080/"
        },
        "outputId": "7b02370a-3ed8-4861-cde4-ad3a8ee409ab"
      },
      "execution_count": 22,
      "outputs": [
        {
          "output_type": "stream",
          "name": "stdout",
          "text": [
            "Producto más vendido de la tienda 1 fue : Microondas (60 ventas) y el menos vendido de la tienda 1 fue: Auriculares con micrófono (33 ventas)\n"
          ]
        }
      ]
    },
    {
      "cell_type": "code",
      "source": [
        "ventas_por_producto = tienda2[\"Producto\"].value_counts()\n",
        "producto_mas_vendido = ventas_por_producto.idxmax()\n",
        "cantidad_mas_vendido = ventas_por_producto.max()\n",
        "producto_menos_vendido = ventas_por_producto.idxmin()\n",
        "cantidad_menos_vendido = ventas_por_producto.min()\n",
        "\n",
        "print(f\"Producto más vendido de la tienda 2 fue : {producto_mas_vendido} ({cantidad_mas_vendido} ventas) y el menos vendido de la tienda 2 fue: {producto_menos_vendido} ({cantidad_menos_vendido} ventas)\")"
      ],
      "metadata": {
        "id": "0Sw3sd4IZIGW",
        "colab": {
          "base_uri": "https://localhost:8080/"
        },
        "outputId": "46c3eb29-a33d-4fef-fa18-059015e67830"
      },
      "execution_count": 25,
      "outputs": [
        {
          "output_type": "stream",
          "name": "stdout",
          "text": [
            "Producto más vendido de la tienda 2 fue : Iniciando en programación (65 ventas) y el menos vendido de la tienda 2 fue: Juego de mesa (32 ventas)\n"
          ]
        }
      ]
    },
    {
      "cell_type": "code",
      "source": [
        "ventas_por_producto = tienda3[\"Producto\"].value_counts()\n",
        "producto_mas_vendido = ventas_por_producto.idxmax()\n",
        "cantidad_mas_vendido = ventas_por_producto.max()\n",
        "producto_menos_vendido = ventas_por_producto.idxmin()\n",
        "cantidad_menos_vendido = ventas_por_producto.min()\n",
        "\n",
        "print(f\"Producto más vendido de la tienda 3 fue : {producto_mas_vendido} ({cantidad_mas_vendido} ventas) y el menos vendido de la tienda 3 fue: {producto_menos_vendido} ({cantidad_menos_vendido} ventas)\")"
      ],
      "metadata": {
        "colab": {
          "base_uri": "https://localhost:8080/"
        },
        "id": "v8i8EeO0Avay",
        "outputId": "fd0edc78-7b31-4021-e2e5-e3642005eff8"
      },
      "execution_count": 24,
      "outputs": [
        {
          "output_type": "stream",
          "name": "stdout",
          "text": [
            "Producto más vendido de la tienda 3 fue : Kit de bancas (57 ventas) y el menos vendido de la tienda 3 fue: Bloques de construcción (35 ventas)\n"
          ]
        }
      ]
    },
    {
      "cell_type": "code",
      "source": [
        "ventas_por_producto = tienda4[\"Producto\"].value_counts()\n",
        "producto_mas_vendido = ventas_por_producto.idxmax()\n",
        "cantidad_mas_vendido = ventas_por_producto.max()\n",
        "producto_menos_vendido = ventas_por_producto.idxmin()\n",
        "cantidad_menos_vendido = ventas_por_producto.min()\n",
        "\n",
        "print(f\"Producto más vendido de la tienda 4 fue : {producto_mas_vendido} ({cantidad_mas_vendido} ventas) y el menos vendido de la tienda 4 fue: {producto_menos_vendido} ({cantidad_menos_vendido} ventas)\")"
      ],
      "metadata": {
        "colab": {
          "base_uri": "https://localhost:8080/"
        },
        "id": "mnYtqpk1AvjT",
        "outputId": "2d0f6375-8c06-4502-82b3-fb518305561f"
      },
      "execution_count": 23,
      "outputs": [
        {
          "output_type": "stream",
          "name": "stdout",
          "text": [
            "Producto más vendido de la tienda 4 fue : Cama box (62 ventas) y el menos vendido de la tienda 4 fue: Guitarra eléctrica (33 ventas)\n"
          ]
        }
      ]
    },
    {
      "cell_type": "markdown",
      "source": [
        "# 5. Envío promedio por tienda"
      ],
      "metadata": {
        "id": "Fl0cGi3bZKqU"
      }
    },
    {
      "cell_type": "code",
      "source": [
        "envios_por_tienda = tienda[\"Vendedor\"].value_counts()\n",
        "envio_promedio = envios_por_tienda.mean()\n",
        "print(f\"La tienda 1 realizó en promedio {envio_promedio:.2f} envíos.\")\n"
      ],
      "metadata": {
        "id": "S2JeaCykZNy9",
        "colab": {
          "base_uri": "https://localhost:8080/"
        },
        "outputId": "1efe16a7-3cc5-4ea8-f46d-cd5342c26d76"
      },
      "execution_count": 47,
      "outputs": [
        {
          "output_type": "stream",
          "name": "stdout",
          "text": [
            "La tienda 1 realizó en promedio 168.50 envíos.\n"
          ]
        }
      ]
    },
    {
      "cell_type": "code",
      "source": [
        "envios_por_tienda = tienda2[\"Vendedor\"].value_counts()\n",
        "envio_promedio = envios_por_tienda.mean()\n",
        "print(f\"La tienda 2 realizó en promedio {envio_promedio:.2f} envíos.\")\n"
      ],
      "metadata": {
        "colab": {
          "base_uri": "https://localhost:8080/"
        },
        "id": "cwCt3QswCxPl",
        "outputId": "efcbb79e-ebcc-474a-ff04-3574860730b7"
      },
      "execution_count": 46,
      "outputs": [
        {
          "output_type": "stream",
          "name": "stdout",
          "text": [
            "La tienda 2 realizó en promedio 168.50 envíos.\n"
          ]
        }
      ]
    },
    {
      "cell_type": "code",
      "source": [
        "envios_por_tienda = tienda3[\"Vendedor\"].value_counts()\n",
        "envio_promedio = envios_por_tienda.mean()\n",
        "print(f\"La tienda 3 realizó en promedio {envio_promedio:.2f} envíos.\")\n"
      ],
      "metadata": {
        "colab": {
          "base_uri": "https://localhost:8080/"
        },
        "id": "Ez519N6XCxWn",
        "outputId": "30e7c12d-58d8-4896-a308-82476660ac0b"
      },
      "execution_count": 44,
      "outputs": [
        {
          "output_type": "stream",
          "name": "stdout",
          "text": [
            "La tienda 3 realizó en promedio 168.50 envíos.\n"
          ]
        }
      ]
    },
    {
      "cell_type": "code",
      "source": [
        "envios_por_tienda = tienda4[\"Vendedor\"].value_counts()\n",
        "envio_promedio = envios_por_tienda.mean()\n",
        "print(f\"La tienda 4 realizó en promedio {envio_promedio:.2f} envíos.\")\n"
      ],
      "metadata": {
        "id": "0tSdCie9ZQlt",
        "colab": {
          "base_uri": "https://localhost:8080/"
        },
        "outputId": "df00cab7-58cc-4e5b-9822-15378dca03d3"
      },
      "execution_count": 45,
      "outputs": [
        {
          "output_type": "stream",
          "name": "stdout",
          "text": [
            "La tienda 4 realizó en promedio 168.43 envíos.\n"
          ]
        }
      ]
    },
    {
      "cell_type": "markdown",
      "source": [
        "# 6. Informe"
      ],
      "metadata": {
        "id": "wgQgm4MiFQOY"
      }
    },
    {
      "cell_type": "markdown",
      "source": [
        "Después de realizar el análisis de facturación, ventas por categoría, calificación promedio, productos vendidos y envío promedio por tienda, se puede llegar a una conclusión sobre cuál de las tiendas está generando menos lucro y debería ser evaluada para una posible venta.\n",
        "\n",
        "---\n",
        "\n",
        "**1. Facturación total**  \n",
        "Al revisar la facturación total de cada tienda, se obtuvieron los siguientes resultados:\n",
        "\n",
        "- Tienda 1: **$1.212.258.300**  \n",
        "- Tienda 2: **$1.175.828.600**  \n",
        "- Tienda 3: **$1.156.536.200**  \n",
        "- **Tienda 4: $1.206.002.800**\n",
        "\n",
        "Aunque todas las tiendas tienen facturaciones similares, **la tienda 3 fue la que generó menos ingresos**, con una diferencia de aproximadamente 50 millones respecto a la tienda 1. Esta diferencia, aunque no es enorme, es consistente con otros indicadores analizados más adelante.\n",
        "\n",
        "---\n",
        "\n",
        "**2. Ventas por categoría**  \n",
        "En la tienda 3, las ventas por categoría fueron más bajas en promedio que en las demás tiendas. Algunas categorías con alto potencial como Electrónica o Muebles no mostraron un desempeño tan fuerte en comparación con las otras tiendas.\n",
        "\n",
        "---\n",
        "\n",
        "**3. Calificación promedio**  \n",
        "Los resultados de calificación promedio fueron:\n",
        "\n",
        "- Tienda 1: **3.98**  \n",
        "- Tienda 2: **4.04**  \n",
        "- **Tienda 3: 4.05**  \n",
        "- Tienda 4: **4.00**\n",
        "\n",
        "En este punto, la tienda 3 fue la **mejor evaluada**, aunque la diferencia con las demás es muy pequeña. Este dato indica que, si bien tiene buen servicio, esto no se ha traducido directamente en mejores ventas.\n",
        "\n",
        "---\n",
        "\n",
        "**4. Productos más y menos vendidos**  \n",
        "En el análisis de productos más y menos vendidos, la tienda 3 también presentó productos con poca rotación. Esto puede explicar por qué su facturación fue más baja, ya que tener muchos productos con pocas ventas afecta el ingreso total.\n",
        "\n",
        "---\n",
        "\n",
        "**5. Promedio de envíos por tienda**  \n",
        "- Tienda 1: **168.50 envíos**  \n",
        "- Tienda 2: **168.50 envíos**  \n",
        "- Tienda 3: **168.50 envíos**  \n",
        "- Tienda 4: **168.43 envíos**\n",
        "\n",
        "En este caso, todas las tiendas manejan prácticamente el mismo promedio de envíos. La diferencia es mínima, por lo que no influye tanto en la decisión final.\n",
        "\n",
        "---\n",
        "\n",
        "Luego de revisar todos los indicadores, **la tienda 3 es la que menos lucro está generando**, con la facturación más baja del grupo y un desempeño moderado en categorías clave y productos vendidos. A pesar de tener la mejor calificación, sus buenos comentarios no están logrando generar más ventas. Por eso, se recomienda al señor Juan que **evalúe si mantener esta tienda es rentable o si debería considerar venderla o replantear su estrategia comercial.**\n"
      ],
      "metadata": {
        "id": "lsmkLPvbKE12"
      }
    }
  ]
}